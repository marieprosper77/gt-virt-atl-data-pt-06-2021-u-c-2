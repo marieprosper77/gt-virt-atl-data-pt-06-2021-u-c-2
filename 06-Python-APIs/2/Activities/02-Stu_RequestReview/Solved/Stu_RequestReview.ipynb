{
 "cells": [
  {
   "cell_type": "code",
   "execution_count": 1,
   "metadata": {
    "collapsed": true
   },
   "outputs": [],
   "source": [
    "# Dependencies\n",
    "import json\n",
    "import requests "
   ]
  },
  {
   "cell_type": "code",
   "execution_count": 2,
   "metadata": {},
   "outputs": [
    {
     "name": "stdout",
     "output_type": "stream",
     "text": [
      "200\n"
     ]
    }
   ],
   "source": [
    "# Specify the URL\n",
    "url = \"http://nyt-mongo-scraper.herokuapp.com/api/headlines\"\n",
    "\n",
    "# Make request and store response\n",
    "response = requests.get(url)\n",
    "\n",
    "# Print status code\n",
    "print(response.status_code)"
   ]
  },
  {
   "cell_type": "code",
   "execution_count": 3,
   "metadata": {
    "collapsed": true
   },
   "outputs": [],
   "source": [
    "# JSON-ify response\n",
    "response_json = response.json()"
   ]
  },
  {
   "cell_type": "code",
   "execution_count": 4,
   "metadata": {
    "scrolled": true
   },
   "outputs": [
    {
     "name": "stdout",
     "output_type": "stream",
     "text": [
      "The first response is {\n",
      "  \"_id\": \"5a8dea0c9096230011de3afd\",\n",
      "  \"headline\": \"A Lesson on Immigration From Pablo Neruda\",\n",
      "  \"summary\": \"Politicians in Chile have stoked anti-immigrant sentiment. Chileans would do well to remember our own history.\",\n",
      "  \"url\": \"https://www.nytimes.com/2018/02/21/opinion/pablo-neruda-chile-immigration.html\",\n",
      "  \"date\": \"2_21_2018\",\n",
      "  \"saved\": true\n",
      "}.\n",
      "The last response is {\n",
      "  \"_id\": \"599dcd78701dee0011f11248\",\n",
      "  \"headline\": \"Imam Who Forged Barcelona Cell Long Evaded Scrutiny\",\n",
      "  \"summary\": \"Abdelbaki Essati, believed to be the recruiter behind the attacks in Spain, had deep links with Islamic extremists and seems to have learned their methods well.\",\n",
      "  \"url\": \"https://www.nytimes.com/2017/08/23/world/europe/abdelbaki-essati-spain-attacks-imam.html\",\n",
      "  \"date\": \"8_23_2017\",\n",
      "  \"saved\": false\n",
      "}.\n"
     ]
    }
   ],
   "source": [
    "# Print first and last articles\n",
    "print(f\"The first response is {json.dumps(response_json[0], indent=2)}.\")\n",
    "print(f\"The last response is {json.dumps(response_json[-1], indent=2)}.\")"
   ]
  },
  {
   "cell_type": "code",
   "execution_count": 5,
   "metadata": {},
   "outputs": [
    {
     "name": "stdout",
     "output_type": "stream",
     "text": [
      "We received 6946 responses.\n"
     ]
    }
   ],
   "source": [
    "print(f\"We received {len(response_json)} responses.\")"
   ]
  }
 ],
 "metadata": {
  "kernelspec": {
   "display_name": "Python 3",
   "language": "python",
   "name": "python3"
  },
  "language_info": {
   "codemirror_mode": {
    "name": "ipython",
    "version": 3
   },
   "file_extension": ".py",
   "mimetype": "text/x-python",
   "name": "python",
   "nbconvert_exporter": "python",
   "pygments_lexer": "ipython3",
   "version": "3.8.8"
  },
  "varInspector": {
   "cols": {
    "lenName": 16,
    "lenType": 16,
    "lenVar": 40
   },
   "kernels_config": {
    "python": {
     "delete_cmd_postfix": "",
     "delete_cmd_prefix": "del ",
     "library": "var_list.py",
     "varRefreshCmd": "print(var_dic_list())"
    },
    "r": {
     "delete_cmd_postfix": ") ",
     "delete_cmd_prefix": "rm(",
     "library": "var_list.r",
     "varRefreshCmd": "cat(var_dic_list()) "
    }
   },
   "types_to_exclude": [
    "module",
    "function",
    "builtin_function_or_method",
    "instance",
    "_Feature"
   ],
   "window_display": false
  }
 },
 "nbformat": 4,
 "nbformat_minor": 2
}
