{
 "cells": [
  {
   "cell_type": "code",
   "execution_count": 1,
   "metadata": {},
   "outputs": [],
   "source": [
    "# Dependencies\n",
    "import requests\n",
    "import json\n",
    "from config import api_key\n"
   ]
  },
  {
   "cell_type": "code",
   "execution_count": 2,
   "metadata": {},
   "outputs": [],
   "source": [
    "api_key = 'dbb90b3c'\n",
    "\n",
    "from pprint import pprint"
   ]
  },
  {
   "cell_type": "code",
   "execution_count": 3,
   "metadata": {},
   "outputs": [],
   "source": [
    "url = url = f\"http://www.omdbapi.com/?apikey={api_key}&t=\"\n"
   ]
  },
  {
   "cell_type": "code",
   "execution_count": 4,
   "metadata": {},
   "outputs": [],
   "source": [
    "movies = [\"Aliens\", \"Sing\", \"Moana\"]"
   ]
  },
  {
   "cell_type": "code",
   "execution_count": 5,
   "metadata": {},
   "outputs": [
    {
     "name": "stdout",
     "output_type": "stream",
     "text": [
      "The Directors of Aliens is James Cameron\n",
      "The Directors of Sing is Garth Jennings, Christophe Lourdelet(co-director)\n",
      "The Directors of Moana is Ron Clements, John Musker, Don Hall\n"
     ]
    }
   ],
   "source": [
    "#data = response.json()\n",
    "#pprint(data)\n",
    "#print(f\"Movie was directed by {data[movies]}.\")\n",
    "\n",
    "response_json = []\n",
    "\n",
    "for x in movies:\n",
    "    movie_data = requests.get(url + x).json()\n",
    "    response_json.append(movie_data)\n",
    "    print(f\"The Directors of {x} is {movie_data['Director']}\")\n",
    "\n"
   ]
  },
  {
   "cell_type": "code",
   "execution_count": 7,
   "metadata": {},
   "outputs": [
    {
     "data": {
      "text/plain": [
       "[{'Title': 'Aliens',\n",
       "  'Year': '1986',\n",
       "  'Rated': 'R',\n",
       "  'Released': '18 Jul 1986',\n",
       "  'Runtime': '137 min',\n",
       "  'Genre': 'Action, Adventure, Sci-Fi, Thriller',\n",
       "  'Director': 'James Cameron',\n",
       "  'Writer': \"James Cameron (story by), David Giler (story by), Walter Hill (story by), Dan O'Bannon (based on characters created by), Ronald Shusett (based on characters created by), James Cameron (screenplay by)\",\n",
       "  'Actors': 'Sigourney Weaver, Carrie Henn, Michael Biehn, Paul Reiser',\n",
       "  'Plot': 'Fifty-seven years after surviving an apocalyptic attack aboard her space vessel by merciless space creatures, Officer Ripley awakens from hyper-sleep and tries to warn anyone who will listen about the predators.',\n",
       "  'Language': 'English',\n",
       "  'Country': 'UK, USA',\n",
       "  'Awards': 'Won 2 Oscars. Another 18 wins & 23 nominations.',\n",
       "  'Poster': 'https://m.media-amazon.com/images/M/MV5BZGU2OGY5ZTYtMWNhYy00NjZiLWI0NjUtZmNhY2JhNDRmODU3XkEyXkFqcGdeQXVyNzkwMjQ5NzM@._V1_SX300.jpg',\n",
       "  'Ratings': [{'Source': 'Internet Movie Database', 'Value': '8.3/10'},\n",
       "   {'Source': 'Rotten Tomatoes', 'Value': '97%'},\n",
       "   {'Source': 'Metacritic', 'Value': '84/100'}],\n",
       "  'Metascore': '84',\n",
       "  'imdbRating': '8.3',\n",
       "  'imdbVotes': '665,340',\n",
       "  'imdbID': 'tt0090605',\n",
       "  'Type': 'movie',\n",
       "  'DVD': '25 Nov 2015',\n",
       "  'BoxOffice': '$85,160,248',\n",
       "  'Production': 'Twentieth Century Fox, Brandywine Productions',\n",
       "  'Website': 'N/A',\n",
       "  'Response': 'True'},\n",
       " {'Title': 'Sing',\n",
       "  'Year': '2016',\n",
       "  'Rated': 'PG',\n",
       "  'Released': '21 Dec 2016',\n",
       "  'Runtime': '108 min',\n",
       "  'Genre': 'Animation, Comedy, Family, Musical',\n",
       "  'Director': 'Garth Jennings, Christophe Lourdelet(co-director)',\n",
       "  'Writer': 'Garth Jennings',\n",
       "  'Actors': 'Matthew McConaughey, Reese Witherspoon, Seth MacFarlane, Scarlett Johansson',\n",
       "  'Plot': \"In a city of humanoid animals, a hustling theater impresario's attempt to save his theater with a singing competition becomes grander than he anticipates even as its finalists find that their lives will never be the same.\",\n",
       "  'Language': 'English, Japanese, Ukrainian',\n",
       "  'Country': 'USA, Japan, France',\n",
       "  'Awards': '3 wins & 25 nominations.',\n",
       "  'Poster': 'https://m.media-amazon.com/images/M/MV5BMTYzODYzODU2Ml5BMl5BanBnXkFtZTgwNTc1MTA2NzE@._V1_SX300.jpg',\n",
       "  'Ratings': [{'Source': 'Internet Movie Database', 'Value': '7.1/10'},\n",
       "   {'Source': 'Rotten Tomatoes', 'Value': '72%'},\n",
       "   {'Source': 'Metacritic', 'Value': '59/100'}],\n",
       "  'Metascore': '59',\n",
       "  'imdbRating': '7.1',\n",
       "  'imdbVotes': '138,107',\n",
       "  'imdbID': 'tt3470600',\n",
       "  'Type': 'movie',\n",
       "  'DVD': '08 Mar 2017',\n",
       "  'BoxOffice': '$270,448,425',\n",
       "  'Production': 'Chris Meledandri',\n",
       "  'Website': 'N/A',\n",
       "  'Response': 'True'},\n",
       " {'Title': 'Moana',\n",
       "  'Year': '2016',\n",
       "  'Rated': 'PG',\n",
       "  'Released': '23 Nov 2016',\n",
       "  'Runtime': '107 min',\n",
       "  'Genre': 'Animation, Adventure, Comedy',\n",
       "  'Director': 'Ron Clements, John Musker, Don Hall',\n",
       "  'Writer': 'Jared Bush, Ron Clements, John Musker',\n",
       "  'Actors': \"Auli'i Cravalho, Dwayne Johnson, Rachel House\",\n",
       "  'Plot': \"In Ancient Polynesia, when a terrible curse incurred by the Demigod Maui reaches Moana's island, she answers the Ocean's call to seek out the Demigod to set things right.\",\n",
       "  'Language': 'English, French',\n",
       "  'Country': 'United States',\n",
       "  'Awards': 'Nominated for 2 Oscars. 20 wins & 90 nominations total',\n",
       "  'Poster': 'https://m.media-amazon.com/images/M/MV5BMjI4MzU5NTExNF5BMl5BanBnXkFtZTgwNzY1MTEwMDI@._V1_SX300.jpg',\n",
       "  'Ratings': [{'Source': 'Internet Movie Database', 'Value': '7.6/10'},\n",
       "   {'Source': 'Rotten Tomatoes', 'Value': '95%'},\n",
       "   {'Source': 'Metacritic', 'Value': '81/100'}],\n",
       "  'Metascore': '81',\n",
       "  'imdbRating': '7.6',\n",
       "  'imdbVotes': '287,134',\n",
       "  'imdbID': 'tt3521164',\n",
       "  'Type': 'movie',\n",
       "  'DVD': '21 Feb 2017',\n",
       "  'BoxOffice': '$248,757,044',\n",
       "  'Production': 'Walt Disney Animation Studios',\n",
       "  'Website': 'N/A',\n",
       "  'Response': 'True'}]"
      ]
     },
     "execution_count": 7,
     "metadata": {},
     "output_type": "execute_result"
    }
   ],
   "source": [
    "response_json"
   ]
  },
  {
   "cell_type": "code",
   "execution_count": null,
   "metadata": {},
   "outputs": [],
   "source": []
  }
 ],
 "metadata": {
  "kernelspec": {
   "display_name": "Python 3",
   "language": "python",
   "name": "python3"
  },
  "language_info": {
   "codemirror_mode": {
    "name": "ipython",
    "version": 3
   },
   "file_extension": ".py",
   "mimetype": "text/x-python",
   "name": "python",
   "nbconvert_exporter": "python",
   "pygments_lexer": "ipython3",
   "version": "3.8.8"
  },
  "varInspector": {
   "cols": {
    "lenName": 16,
    "lenType": 16,
    "lenVar": 40
   },
   "kernels_config": {
    "python": {
     "delete_cmd_postfix": "",
     "delete_cmd_prefix": "del ",
     "library": "var_list.py",
     "varRefreshCmd": "print(var_dic_list())"
    },
    "r": {
     "delete_cmd_postfix": ") ",
     "delete_cmd_prefix": "rm(",
     "library": "var_list.r",
     "varRefreshCmd": "cat(var_dic_list()) "
    }
   },
   "types_to_exclude": [
    "module",
    "function",
    "builtin_function_or_method",
    "instance",
    "_Feature"
   ],
   "window_display": false
  }
 },
 "nbformat": 4,
 "nbformat_minor": 2
}
