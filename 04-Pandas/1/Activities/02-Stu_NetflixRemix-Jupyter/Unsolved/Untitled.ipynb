{
 "cells": [
  {
   "cell_type": "code",
   "execution_count": 2,
   "id": "6343f3bd-ce3c-4f2f-a7b5-92b3390b30da",
   "metadata": {},
   "outputs": [
    {
     "name": "stdin",
     "output_type": "stream",
     "text": [
      "What show or movie are you looking for?  test\n"
     ]
    },
    {
     "name": "stdout",
     "output_type": "stream",
     "text": [
      "Sorry about this, we don't seem to have what you are looking for!\n"
     ]
    }
   ],
   "source": [
    "# Modules\n",
    "import os\n",
    "import csv\n",
    "\n",
    "# Prompt user for video lookup\n",
    "video = input(\"What show or movie are you looking for? \")\n",
    "\n",
    "# Set path for file\n",
    "csvpath = os.path.join(\"Resources\", \"netflix_ratings.csv\")\n",
    "\n",
    "# Bonus\n",
    "# ------------------------------------------\n",
    "# Set variable to check if we found the video\n",
    "found = False\n",
    "\n",
    "# Open the CSV\n",
    "with open(csvpath) as csvfile:\n",
    "    csvreader = csv.reader(csvfile, delimiter=\",\")\n",
    "\n",
    "    # Loop through looking for the video\n",
    "    for row in csvreader:\n",
    "        if row[0] == video:\n",
    "            print(row[0] + \" is rated \" + row[1] + \" with a rating of \" + row[6])\n",
    "\n",
    "            # Set variable to confirm we have found the video\n",
    "            found = True\n",
    "\n",
    "    # If the video is never found, alert the user\n",
    "    if found is False:\n",
    "        print(\"Sorry about this, we don't seem to have what you are looking for!\")\n"
   ]
  },
  {
   "cell_type": "code",
   "execution_count": null,
   "id": "9a9ff8b4-c6b4-491d-90a7-6d8ea9af785a",
   "metadata": {},
   "outputs": [],
   "source": []
  }
 ],
 "metadata": {
  "kernelspec": {
   "display_name": "Python 3 (ipykernel)",
   "language": "python",
   "name": "python3"
  },
  "language_info": {
   "codemirror_mode": {
    "name": "ipython",
    "version": 3
   },
   "file_extension": ".py",
   "mimetype": "text/x-python",
   "name": "python",
   "nbconvert_exporter": "python",
   "pygments_lexer": "ipython3",
   "version": "3.9.7"
  }
 },
 "nbformat": 4,
 "nbformat_minor": 5
}
