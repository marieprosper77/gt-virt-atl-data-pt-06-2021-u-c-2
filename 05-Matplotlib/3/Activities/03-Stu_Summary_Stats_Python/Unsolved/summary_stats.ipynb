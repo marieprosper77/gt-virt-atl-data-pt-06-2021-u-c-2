{
 "cells": [
  {
   "cell_type": "code",
   "execution_count": 6,
   "metadata": {},
   "outputs": [],
   "source": [
    "# Dependencies\n",
    "import pandas as pd\n",
    "import matplotlib.pyplot as plt\n",
    "import scipy.stats as sts"
   ]
  },
  {
   "cell_type": "code",
   "execution_count": 9,
   "metadata": {},
   "outputs": [
    {
     "data": {
      "text/html": [
       "<div>\n",
       "<style scoped>\n",
       "    .dataframe tbody tr th:only-of-type {\n",
       "        vertical-align: middle;\n",
       "    }\n",
       "\n",
       "    .dataframe tbody tr th {\n",
       "        vertical-align: top;\n",
       "    }\n",
       "\n",
       "    .dataframe thead th {\n",
       "        text-align: right;\n",
       "    }\n",
       "</style>\n",
       "<table border=\"1\" class=\"dataframe\">\n",
       "  <thead>\n",
       "    <tr style=\"text-align: right;\">\n",
       "      <th></th>\n",
       "      <th>MedInc</th>\n",
       "      <th>HouseAge</th>\n",
       "      <th>AveRooms</th>\n",
       "      <th>AveBedrms</th>\n",
       "      <th>Population</th>\n",
       "      <th>AveOccup</th>\n",
       "      <th>Latitude</th>\n",
       "      <th>Longitude</th>\n",
       "    </tr>\n",
       "  </thead>\n",
       "  <tbody>\n",
       "    <tr>\n",
       "      <th>0</th>\n",
       "      <td>5.2742</td>\n",
       "      <td>17.0</td>\n",
       "      <td>8.908654</td>\n",
       "      <td>1.884615</td>\n",
       "      <td>351.0</td>\n",
       "      <td>1.687500</td>\n",
       "      <td>32.98</td>\n",
       "      <td>-117.27</td>\n",
       "    </tr>\n",
       "    <tr>\n",
       "      <th>1</th>\n",
       "      <td>1.8438</td>\n",
       "      <td>52.0</td>\n",
       "      <td>3.069847</td>\n",
       "      <td>1.044293</td>\n",
       "      <td>2382.0</td>\n",
       "      <td>4.057922</td>\n",
       "      <td>34.07</td>\n",
       "      <td>-118.26</td>\n",
       "    </tr>\n",
       "    <tr>\n",
       "      <th>2</th>\n",
       "      <td>7.0691</td>\n",
       "      <td>13.0</td>\n",
       "      <td>6.689697</td>\n",
       "      <td>1.009697</td>\n",
       "      <td>2444.0</td>\n",
       "      <td>2.962424</td>\n",
       "      <td>37.57</td>\n",
       "      <td>-121.87</td>\n",
       "    </tr>\n",
       "    <tr>\n",
       "      <th>3</th>\n",
       "      <td>5.4719</td>\n",
       "      <td>38.0</td>\n",
       "      <td>5.890080</td>\n",
       "      <td>0.957105</td>\n",
       "      <td>1228.0</td>\n",
       "      <td>3.292225</td>\n",
       "      <td>37.52</td>\n",
       "      <td>-122.28</td>\n",
       "    </tr>\n",
       "    <tr>\n",
       "      <th>4</th>\n",
       "      <td>4.0156</td>\n",
       "      <td>35.0</td>\n",
       "      <td>6.195312</td>\n",
       "      <td>1.171875</td>\n",
       "      <td>669.0</td>\n",
       "      <td>5.226562</td>\n",
       "      <td>33.93</td>\n",
       "      <td>-117.41</td>\n",
       "    </tr>\n",
       "    <tr>\n",
       "      <th>...</th>\n",
       "      <td>...</td>\n",
       "      <td>...</td>\n",
       "      <td>...</td>\n",
       "      <td>...</td>\n",
       "      <td>...</td>\n",
       "      <td>...</td>\n",
       "      <td>...</td>\n",
       "      <td>...</td>\n",
       "    </tr>\n",
       "    <tr>\n",
       "      <th>2995</th>\n",
       "      <td>4.5724</td>\n",
       "      <td>4.0</td>\n",
       "      <td>6.837037</td>\n",
       "      <td>1.229630</td>\n",
       "      <td>352.0</td>\n",
       "      <td>2.607407</td>\n",
       "      <td>35.10</td>\n",
       "      <td>-117.98</td>\n",
       "    </tr>\n",
       "    <tr>\n",
       "      <th>2996</th>\n",
       "      <td>3.6031</td>\n",
       "      <td>52.0</td>\n",
       "      <td>3.702592</td>\n",
       "      <td>1.062756</td>\n",
       "      <td>1438.0</td>\n",
       "      <td>1.961801</td>\n",
       "      <td>37.77</td>\n",
       "      <td>-122.43</td>\n",
       "    </tr>\n",
       "    <tr>\n",
       "      <th>2997</th>\n",
       "      <td>5.2820</td>\n",
       "      <td>24.0</td>\n",
       "      <td>5.918495</td>\n",
       "      <td>1.000000</td>\n",
       "      <td>950.0</td>\n",
       "      <td>2.978056</td>\n",
       "      <td>32.85</td>\n",
       "      <td>-117.00</td>\n",
       "    </tr>\n",
       "    <tr>\n",
       "      <th>2998</th>\n",
       "      <td>1.3668</td>\n",
       "      <td>52.0</td>\n",
       "      <td>2.673635</td>\n",
       "      <td>1.089431</td>\n",
       "      <td>1515.0</td>\n",
       "      <td>1.759582</td>\n",
       "      <td>37.79</td>\n",
       "      <td>-122.41</td>\n",
       "    </tr>\n",
       "    <tr>\n",
       "      <th>2999</th>\n",
       "      <td>4.9688</td>\n",
       "      <td>15.0</td>\n",
       "      <td>6.185950</td>\n",
       "      <td>1.004132</td>\n",
       "      <td>730.0</td>\n",
       "      <td>3.016529</td>\n",
       "      <td>38.68</td>\n",
       "      <td>-121.25</td>\n",
       "    </tr>\n",
       "  </tbody>\n",
       "</table>\n",
       "<p>3000 rows × 8 columns</p>\n",
       "</div>"
      ],
      "text/plain": [
       "      MedInc  HouseAge  AveRooms  AveBedrms  Population  AveOccup  Latitude  \\\n",
       "0     5.2742      17.0  8.908654   1.884615       351.0  1.687500     32.98   \n",
       "1     1.8438      52.0  3.069847   1.044293      2382.0  4.057922     34.07   \n",
       "2     7.0691      13.0  6.689697   1.009697      2444.0  2.962424     37.57   \n",
       "3     5.4719      38.0  5.890080   0.957105      1228.0  3.292225     37.52   \n",
       "4     4.0156      35.0  6.195312   1.171875       669.0  5.226562     33.93   \n",
       "...      ...       ...       ...        ...         ...       ...       ...   \n",
       "2995  4.5724       4.0  6.837037   1.229630       352.0  2.607407     35.10   \n",
       "2996  3.6031      52.0  3.702592   1.062756      1438.0  1.961801     37.77   \n",
       "2997  5.2820      24.0  5.918495   1.000000       950.0  2.978056     32.85   \n",
       "2998  1.3668      52.0  2.673635   1.089431      1515.0  1.759582     37.79   \n",
       "2999  4.9688      15.0  6.185950   1.004132       730.0  3.016529     38.68   \n",
       "\n",
       "      Longitude  \n",
       "0       -117.27  \n",
       "1       -118.26  \n",
       "2       -121.87  \n",
       "3       -122.28  \n",
       "4       -117.41  \n",
       "...         ...  \n",
       "2995    -117.98  \n",
       "2996    -122.43  \n",
       "2997    -117.00  \n",
       "2998    -122.41  \n",
       "2999    -121.25  \n",
       "\n",
       "[3000 rows x 8 columns]"
      ]
     },
     "execution_count": 9,
     "metadata": {},
     "output_type": "execute_result"
    }
   ],
   "source": [
    "# Read in the california housing data set\n",
    "housing_df = pd.read_csv('../Resources/California_Housing.csv')\n",
    "housing_df"
   ]
  },
  {
   "cell_type": "code",
   "execution_count": 10,
   "metadata": {},
   "outputs": [
    {
     "data": {
      "text/plain": [
       "1387.9633333333334"
      ]
     },
     "execution_count": 10,
     "metadata": {},
     "output_type": "execute_result"
    }
   ],
   "source": [
    "# Determine which measure of central tendency is most appropriate to describe the Population\n",
    "housing_df[\"Population\"].describe()\n",
    "\n",
    "\n",
    "housing_df[\"Population\"].mean()\n",
    "\n"
   ]
  },
  {
   "cell_type": "code",
   "execution_count": 14,
   "metadata": {},
   "outputs": [
    {
     "data": {
      "image/png": "[encoded data removed]",
      "text/plain": [
       "<Figure size 432x288 with 1 Axes>"
      ]
     },
     "metadata": {
      "needs_background": "light"
     },
     "output_type": "display_data"
    },
    {
     "name": "stdout",
     "output_type": "stream",
     "text": [
      "NormaltestResult(statistic=array([  3.92517879,   2.82016994,  89.05798577, 107.75687298,\n",
      "         7.2363213 ,   8.32926143,  14.69404486,  71.01366609]), pvalue=array([1.40494154e-01, 2.44122539e-01, 4.58462802e-20, 3.98925997e-24,\n",
      "       2.68319846e-02, 1.55354509e-02, 6.44508576e-04, 3.79820446e-16]))\n"
     ]
    }
   ],
   "source": [
    "# Determine if the house age in California is considered normally distributed\n",
    "\n",
    "plt.hist(housing_df)\n",
    "plt.xlabel('Population')\n",
    "plt.ylabel('Counts')\n",
    "plt.show()\n",
    "print(sts.normaltest(housing_df.sample(50)))"
   ]
  },
  {
   "cell_type": "code",
   "execution_count": 29,
   "metadata": {},
   "outputs": [
    {
     "name": "stdout",
     "output_type": "stream",
     "text": [
      "The lower quartile of Population is: 773.0\n",
      "The upper quartile of Population is: 1677.5\n",
      "The interquartile range of Population is: 904.5\n",
      "The the median of Population is: 1152.5 \n",
      "Values below -583.75 could be outliers.\n",
      "Values above 3034.25 could be outliers.\n"
     ]
    }
   ],
   "source": [
    "# Determine if there are any potential outliers in the average occupancy in California\n",
    "\n",
    "quartiles = housing_df[\"Population\"].quantile([.25,.5,.75])\n",
    "lowerq = quartiles[0.25]\n",
    "upperq = quartiles[0.75]\n",
    "iqr = upperq-lowerq\n",
    "\n",
    "print(f\"The lower quartile of Population is: {lowerq}\")\n",
    "print(f\"The upper quartile of Population is: {upperq}\")\n",
    "print(f\"The interquartile range of Population is: {iqr}\")\n",
    "print(f\"The the median of Population is: {quartiles[0.5]} \")\n",
    "\n",
    "lower_bound = lowerq - (1.5*iqr)\n",
    "upper_bound = upperq + (1.5*iqr)\n",
    "print(f\"Values below {lower_bound} could be outliers.\")\n",
    "print(f\"Values above {upper_bound} could be outliers.\")"
   ]
  },
  {
   "cell_type": "code",
   "execution_count": 32,
   "metadata": {},
   "outputs": [
    {
     "name": "stdout",
     "output_type": "stream",
     "text": [
      "Min income of potential outliers 0.4999\n",
      "Max income of potential outliers 15.0001\n"
     ]
    }
   ],
   "source": [
    "# With the potential outliers, what is the lowest and highest median income (in $1000s) observed?\n",
    "print(f\"Min income of potential outliers {housing_df ['MedInc'].min()}\")\n",
    "print(f\"Max income of potential outliers {housing_df ['MedInc'].max()}\")\n"
   ]
  },
  {
   "cell_type": "code",
   "execution_count": null,
   "metadata": {},
   "outputs": [],
   "source": [
    "# Bonus - plot the latitude and longitude of the California housing data using Matplotlib, color the data points using the median income of the block."
   ]
  },
  {
   "cell_type": "code",
   "execution_count": null,
   "metadata": {},
   "outputs": [],
   "source": []
  }
 ],
 "metadata": {
  "kernelspec": {
   "display_name": "Python 3",
   "language": "python",
   "name": "python3"
  },
  "language_info": {
   "codemirror_mode": {
    "name": "ipython",
    "version": 3
   },
   "file_extension": ".py",
   "mimetype": "text/x-python",
   "name": "python",
   "nbconvert_exporter": "python",
   "pygments_lexer": "ipython3",
   "version": "3.8.8"
  }
 },
 "nbformat": 4,
 "nbformat_minor": 2
}
