{
 "cells": [
  {
   "cell_type": "code",
   "execution_count": 1,
   "metadata": {},
   "outputs": [],
   "source": [
    "# Dependencies\n",
    "import pandas as pd\n",
    "import sklearn.datasets as dta\n",
    "import scipy.stats as st\n",
    "import matplotlib.pyplot as plt"
   ]
  },
  {
   "cell_type": "code",
   "execution_count": 2,
   "metadata": {},
   "outputs": [
    {
     "name": "stdout",
     "output_type": "stream",
     "text": [
      ".. _wine_dataset:\n",
      "\n",
      "Wine recognition dataset\n",
      "------------------------\n",
      "\n",
      "**Data Set Characteristics:**\n",
      "\n",
      "    :Number of Instances: 178 (50 in each of three classes)\n",
      "    :Number of Attributes: 13 numeric, predictive attributes and the class\n",
      "    :Attribute Information:\n",
      " \t\t- Alcohol\n",
      " \t\t- Malic acid\n",
      " \t\t- Ash\n",
      "\t\t- Alcalinity of ash  \n",
      " \t\t- Magnesium\n",
      "\t\t- Total phenols\n",
      " \t\t- Flavanoids\n",
      " \t\t- Nonflavanoid phenols\n",
      " \t\t- Proanthocyanins\n",
      "\t\t- Color intensity\n",
      " \t\t- Hue\n",
      " \t\t- OD280/OD315 of diluted wines\n",
      " \t\t- Proline\n",
      "\n",
      "    - class:\n",
      "            - class_0\n",
      "            - class_1\n",
      "            - class_2\n",
      "\t\t\n",
      "    :Summary Statistics:\n",
      "    \n",
      "    ============================= ==== ===== ======= =====\n",
      "                                   Min   Max   Mean     SD\n",
      "    ============================= ==== ===== ======= =====\n",
      "    Alcohol:                      11.0  14.8    13.0   0.8\n",
      "    Malic Acid:                   0.74  5.80    2.34  1.12\n",
      "    Ash:                          1.36  3.23    2.36  0.27\n",
      "    Alcalinity of Ash:            10.6  30.0    19.5   3.3\n",
      "    Magnesium:                    70.0 162.0    99.7  14.3\n",
      "    Total Phenols:                0.98  3.88    2.29  0.63\n",
      "    Flavanoids:                   0.34  5.08    2.03  1.00\n",
      "    Nonflavanoid Phenols:         0.13  0.66    0.36  0.12\n",
      "    Proanthocyanins:              0.41  3.58    1.59  0.57\n",
      "    Colour Intensity:              1.3  13.0     5.1   2.3\n",
      "    Hue:                          0.48  1.71    0.96  0.23\n",
      "    OD280/OD315 of diluted wines: 1.27  4.00    2.61  0.71\n",
      "    Proline:                       278  1680     746   315\n",
      "    ============================= ==== ===== ======= =====\n",
      "\n",
      "    :Missing Attribute Values: None\n",
      "    :Class Distribution: class_0 (59), class_1 (71), class_2 (48)\n",
      "    :Creator: R.A. Fisher\n",
      "    :Donor: Michael Marshall (MARSHALL%PLU@io.arc.nasa.gov)\n",
      "    :Date: July, 1988\n",
      "\n",
      "This is a copy of UCI ML Wine recognition datasets.\n",
      "https://archive.ics.uci.edu/ml/machine-learning-databases/wine/wine.data\n",
      "\n",
      "The data is the results of a chemical analysis of wines grown in the same\n",
      "region in Italy by three different cultivators. There are thirteen different\n",
      "measurements taken for different constituents found in the three types of\n",
      "wine.\n",
      "\n",
      "Original Owners: \n",
      "\n",
      "Forina, M. et al, PARVUS - \n",
      "An Extendible Package for Data Exploration, Classification and Correlation. \n",
      "Institute of Pharmaceutical and Food Analysis and Technologies,\n",
      "Via Brigata Salerno, 16147 Genoa, Italy.\n",
      "\n",
      "Citation:\n",
      "\n",
      "Lichman, M. (2013). UCI Machine Learning Repository\n",
      "[http://archive.ics.uci.edu/ml]. Irvine, CA: University of California,\n",
      "School of Information and Computer Science. \n",
      "\n",
      ".. topic:: References\n",
      "\n",
      "  (1) S. Aeberhard, D. Coomans and O. de Vel, \n",
      "  Comparison of Classifiers in High Dimensional Settings, \n",
      "  Tech. Rep. no. 92-02, (1992), Dept. of Computer Science and Dept. of  \n",
      "  Mathematics and Statistics, James Cook University of North Queensland. \n",
      "  (Also submitted to Technometrics). \n",
      "\n",
      "  The data was used with many others for comparing various \n",
      "  classifiers. The classes are separable, though only RDA \n",
      "  has achieved 100% correct classification. \n",
      "  (RDA : 100%, QDA 99.4%, LDA 98.9%, 1NN 96.1% (z-transformed data)) \n",
      "  (All results using the leave-one-out technique) \n",
      "\n",
      "  (2) S. Aeberhard, D. Coomans and O. de Vel, \n",
      "  \"THE CLASSIFICATION PERFORMANCE OF RDA\" \n",
      "  Tech. Rep. no. 92-01, (1992), Dept. of Computer Science and Dept. of \n",
      "  Mathematics and Statistics, James Cook University of North Queensland. \n",
      "  (Also submitted to Journal of Chemometrics).\n",
      "\n"
     ]
    }
   ],
   "source": [
    "# Read in the wine recognition data set from sklearn and load into Pandas\n",
    "data = dta.load_wine()\n",
    "wine_data = pd.DataFrame(data.data,columns=data.feature_names)\n",
    "print(data.DESCR)"
   ]
  },
  {
   "cell_type": "code",
   "execution_count": 3,
   "metadata": {},
   "outputs": [
    {
     "data": {
      "image/png": "[encoded data removed]",
      "text/plain": [
       "<Figure size 432x288 with 1 Axes>"
      ]
     },
     "metadata": {
      "needs_background": "light"
     },
     "output_type": "display_data"
    }
   ],
   "source": [
    "# Plot malic_acid versus flavanoids on a scatterplot\n",
    "malic_acid = wine_data.malic_acid\n",
    "flavanoids = wine_data.flavanoids\n",
    "plt.scatter(malic_acid,flavanoids)\n",
    "plt.xlabel(\"Amount of Malic Acid\")\n",
    "plt.ylabel(\"Amount of Flavanoids\")\n",
    "plt.show()"
   ]
  },
  {
   "cell_type": "code",
   "execution_count": 4,
   "metadata": {},
   "outputs": [
    {
     "name": "stdout",
     "output_type": "stream",
     "text": [
      "The correlation coefficient between malic acid and flavanoids is -0.41\n"
     ]
    }
   ],
   "source": [
    "# Calculate the correlation coefficient between malic_acid and flavanoids\n",
    "print(f\"The correlation coefficient between malic acid and flavanoids is {round(st.pearsonr(malic_acid,flavanoids)[0],2)}\")"
   ]
  },
  {
   "cell_type": "code",
   "execution_count": 5,
   "metadata": {},
   "outputs": [
    {
     "data": {
      "image/png": "[encoded data removed]",
      "text/plain": [
       "<Figure size 432x288 with 1 Axes>"
      ]
     },
     "metadata": {
      "needs_background": "light"
     },
     "output_type": "display_data"
    }
   ],
   "source": [
    "# Plot alcohol versus colour_intensity on a scatterplot\n",
    "alcohol = wine_data.alcohol\n",
    "color_intensity = wine_data.color_intensity\n",
    "plt.scatter(alcohol,color_intensity)\n",
    "plt.xlabel(\"Amount of Alcohol\")\n",
    "plt.ylabel(\"Intensity of Color\")\n",
    "plt.show()"
   ]
  },
  {
   "cell_type": "code",
   "execution_count": 6,
   "metadata": {},
   "outputs": [
    {
     "name": "stdout",
     "output_type": "stream",
     "text": [
      "The correlation coefficient between alcohol and color intensity is 0.55\n"
     ]
    }
   ],
   "source": [
    "# Calculate the correlation coefficient between alcohol and color_intensity\n",
    "print(f\"The correlation coefficient between alcohol and color intensity is {round(st.pearsonr(alcohol,color_intensity)[0],2)}\")"
   ]
  },
  {
   "cell_type": "code",
   "execution_count": 7,
   "metadata": {},
   "outputs": [
    {
     "data": {
      "text/plain": [
       "malic_acid                    hue                            -0.561296\n",
       "hue                           malic_acid                     -0.561296\n",
       "nonflavanoid_phenols          flavanoids                     -0.537900\n",
       "flavanoids                    nonflavanoid_phenols           -0.537900\n",
       "hue                           color_intensity                -0.521813\n",
       "color_intensity               hue                            -0.521813\n",
       "od280/od315_of_diluted_wines  nonflavanoid_phenols           -0.503270\n",
       "nonflavanoid_phenols          od280/od315_of_diluted_wines   -0.503270\n",
       "total_phenols                 nonflavanoid_phenols           -0.449935\n",
       "nonflavanoid_phenols          total_phenols                  -0.449935\n",
       "proline                       alcalinity_of_ash              -0.440597\n",
       "alcalinity_of_ash             proline                        -0.440597\n",
       "color_intensity               od280/od315_of_diluted_wines   -0.428815\n",
       "od280/od315_of_diluted_wines  color_intensity                -0.428815\n",
       "flavanoids                    malic_acid                     -0.411007\n",
       "malic_acid                    flavanoids                     -0.411007\n",
       "od280/od315_of_diluted_wines  malic_acid                     -0.368710\n",
       "malic_acid                    od280/od315_of_diluted_wines   -0.368710\n",
       "nonflavanoid_phenols          proanthocyanins                -0.365845\n",
       "proanthocyanins               nonflavanoid_phenols           -0.365845\n",
       "flavanoids                    alcalinity_of_ash              -0.351370\n",
       "alcalinity_of_ash             flavanoids                     -0.351370\n",
       "malic_acid                    total_phenols                  -0.335167\n",
       "total_phenols                 malic_acid                     -0.335167\n",
       "alcalinity_of_ash             total_phenols                  -0.321113\n",
       "total_phenols                 alcalinity_of_ash              -0.321113\n",
       "proline                       nonflavanoid_phenols           -0.311385\n",
       "nonflavanoid_phenols          proline                        -0.311385\n",
       "alcohol                       alcalinity_of_ash              -0.310235\n",
       "alcalinity_of_ash             alcohol                        -0.310235\n",
       "                                                                ...   \n",
       "flavanoids                    hue                             0.543479\n",
       "color_intensity               alcohol                         0.546364\n",
       "alcohol                       color_intensity                 0.546364\n",
       "od280/od315_of_diluted_wines  hue                             0.565468\n",
       "hue                           od280/od315_of_diluted_wines    0.565468\n",
       "total_phenols                 proanthocyanins                 0.612413\n",
       "proanthocyanins               total_phenols                   0.612413\n",
       "proline                       alcohol                         0.643720\n",
       "alcohol                       proline                         0.643720\n",
       "flavanoids                    proanthocyanins                 0.652692\n",
       "proanthocyanins               flavanoids                      0.652692\n",
       "od280/od315_of_diluted_wines  total_phenols                   0.699949\n",
       "total_phenols                 od280/od315_of_diluted_wines    0.699949\n",
       "flavanoids                    od280/od315_of_diluted_wines    0.787194\n",
       "od280/od315_of_diluted_wines  flavanoids                      0.787194\n",
       "flavanoids                    total_phenols                   0.864564\n",
       "total_phenols                 flavanoids                      0.864564\n",
       "alcohol                       alcohol                         1.000000\n",
       "flavanoids                    flavanoids                      1.000000\n",
       "hue                           hue                             1.000000\n",
       "color_intensity               color_intensity                 1.000000\n",
       "proanthocyanins               proanthocyanins                 1.000000\n",
       "nonflavanoid_phenols          nonflavanoid_phenols            1.000000\n",
       "total_phenols                 total_phenols                   1.000000\n",
       "magnesium                     magnesium                       1.000000\n",
       "alcalinity_of_ash             alcalinity_of_ash               1.000000\n",
       "ash                           ash                             1.000000\n",
       "malic_acid                    malic_acid                      1.000000\n",
       "od280/od315_of_diluted_wines  od280/od315_of_diluted_wines    1.000000\n",
       "proline                       proline                         1.000000\n",
       "Length: 169, dtype: float64"
      ]
     },
     "execution_count": 7,
     "metadata": {},
     "output_type": "execute_result"
    }
   ],
   "source": [
    "# BONUS: Generate the correlation matrix and find the strongest positive and negative correlations\n",
    "wine_corr = wine_data.corr()\n",
    "wine_corr.unstack().sort_values()"
   ]
  },
  {
   "cell_type": "code",
   "execution_count": null,
   "metadata": {},
   "outputs": [],
   "source": []
  }
 ],
 "metadata": {
  "kernelspec": {
   "display_name": "Python 3",
   "language": "python",
   "name": "python3"
  },
  "language_info": {
   "codemirror_mode": {
    "name": "ipython",
    "version": 3
   },
   "file_extension": ".py",
   "mimetype": "text/x-python",
   "name": "python",
   "nbconvert_exporter": "python",
   "pygments_lexer": "ipython3",
   "version": "3.8.8"
  }
 },
 "nbformat": 4,
 "nbformat_minor": 2
}
